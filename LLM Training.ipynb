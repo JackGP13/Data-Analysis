{
 "cells": [
  {
   "cell_type": "code",
   "execution_count": 1,
   "metadata": {},
   "outputs": [
    {
     "name": "stdout",
     "output_type": "stream",
     "text": [
      "tensor([[0.3448, 0.4058, 0.4273],\n",
      "        [0.1998, 0.4359, 0.7353],\n",
      "        [0.5318, 0.6995, 0.4623],\n",
      "        [0.3624, 0.0725, 0.1782],\n",
      "        [0.7297, 0.7252, 0.7219]])\n"
     ]
    }
   ],
   "source": [
    "#impport necessary libraries\n",
    "import re\n",
    "import torch\n",
    "x = torch.rand(5, 3)\n",
    "print(x)"
   ]
  },
  {
   "cell_type": "code",
   "execution_count": 4,
   "metadata": {},
   "outputs": [],
   "source": [
    "# Load dataset\n",
    "with open('./Data/War_and_Peace.txt', 'r', encoding='utf-8') as f:\n",
    "    text = f.read()"
   ]
  },
  {
   "cell_type": "code",
   "execution_count": 3,
   "metadata": {},
   "outputs": [
    {
     "name": "stdout",
     "output_type": "stream",
     "text": [
      "Length of dataset in characters: 3222420\n"
     ]
    }
   ],
   "source": [
    "# Inspect the length and first 200 characters of the text to understand its structure and content.\n",
    "print(\"Length of dataset in characters:\", len(text))"
   ]
  },
  {
   "cell_type": "code",
   "execution_count": 4,
   "metadata": {},
   "outputs": [
    {
     "name": "stdout",
     "output_type": "stream",
     "text": [
      "Preview:\n",
      " Alexander’s loftiness of soul. She has refused to evacuate Malta. She wanted to find, and still seeks, some secret motive in our actions. What answer did Novosíltsev get? None. The English have not u\n"
     ]
    }
   ],
   "source": [
    "# Let's look at the first 200 characters\n",
    "print(\"Preview:\")\n",
    "print(text[10000:10200])"
   ]
  },
  {
   "cell_type": "code",
   "execution_count": 5,
   "metadata": {},
   "outputs": [
    {
     "name": "stdout",
     "output_type": "stream",
     "text": [
      "\n",
      "   ! # $ % ( ) * , - . / 0 1 2 3 4 5 6 7 8 9 : ; = ? A B C D E F G H I J K L M N O P Q R S T U V W X Y Z [ ] a b c d e f g h i j k l m n o p q r s t u v w x y z À Á É à á â ä æ ç è é ê ë í î ï ó ô ö ú ü ý œ — ‘ ’ “ ” • ™\n",
      "Vocab size is 111\n"
     ]
    }
   ],
   "source": [
    "# Extract Unique Characters from Text Data\n",
    "chars = sorted(list(set(text)))         # Convert set to list, then sort unique characters\n",
    "vocab_size = len(chars)                 # Calculate vocabulary size\n",
    "print(' '.join(chars))                  # Display unique characters\n",
    "print('Vocab size is', vocab_size)      # Display vocabulary size"
   ]
  },
  {
   "cell_type": "code",
   "execution_count": 6,
   "metadata": {},
   "outputs": [
    {
     "name": "stdout",
     "output_type": "stream",
     "text": [
      "Total length of cleaned text: 3182900\n",
      "\n",
      "\n",
      "Preview of the cleaned text:\n",
      "the project gutenberg ebook of war and peace\n",
      "this ebook is for the use of anyone anywhere in the united states and most other parts of the world at no cost and with almost no restrictions whatsoever. \n"
     ]
    }
   ],
   "source": [
    "# Define a regex pattern to match unwanted characters\n",
    "pattern = r'[^a-zA-Z\\s,.:;?_&$!\"()\\-*\\[\\]]'\n",
    "text = re.sub(pattern, '', text) # Remove unwanted characters\n",
    "text = text.lower() # Convert to lowercase\n",
    "text = text.strip() # Remove leading and trailing whitespace\n",
    "\n",
    "# show output\n",
    "# print length of preprocessed text:\n",
    "print(f'Total length of cleaned text: {len(text)}')\n",
    "\n",
    "# print to preview the cleaned text\n",
    "print(f'\\n\\nPreview of the cleaned text:\\n{text[:200]}')"
   ]
  },
  {
   "cell_type": "code",
   "execution_count": 7,
   "metadata": {},
   "outputs": [
    {
     "name": "stdout",
     "output_type": "stream",
     "text": [
      "\n",
      "   ! $ ( ) * , - . : ; ? [ ] a b c d e f g h i j k l m n o p q r s t u v w x y z\n",
      "\n",
      " Vocab_size is 41\n"
     ]
    }
   ],
   "source": [
    "chars = sorted(list(set(text)))\n",
    "vocab_size = len(chars)\n",
    "\n",
    "# show the output\n",
    "# print the unique characters and the vocabulary size:\n",
    "print(' '.join(chars))\n",
    "print('\\n Vocab_size is',vocab_size)"
   ]
  },
  {
   "cell_type": "code",
   "execution_count": 15,
   "metadata": {},
   "outputs": [
    {
     "name": "stdout",
     "output_type": "stream",
     "text": [
      "[34, 22, 19, 1, 30, 32, 23, 28, 17, 19, 33, 33, 1, 33, 27, 23, 26, 19, 18]\n"
     ]
    }
   ],
   "source": [
    "# Create mappings from characters to indices and vice versa\n",
    "stoi = {ch: i for i, ch in enumerate(chars)} # Create a mapping from characters to indices\n",
    "itos = {i: ch for i, ch in enumerate(chars)} # Create a reverse mapping from indices to characters\n",
    "encode = lambda s: [stoi[c] for c in s] # Function to encode a string into indices\n",
    "decode = lambda l: ''.join([itos[i] for i in l]) # Function to decode indices back into a string\n",
    "print(encode('the princess smiled')) # Test the encoding function"
   ]
  },
  {
   "cell_type": "code",
   "execution_count": null,
   "metadata": {},
   "outputs": [],
   "source": []
  }
 ],
 "metadata": {
  "kernelspec": {
   "display_name": "Data_Science",
   "language": "python",
   "name": "python3"
  },
  "language_info": {
   "codemirror_mode": {
    "name": "ipython",
    "version": 3
   },
   "file_extension": ".py",
   "mimetype": "text/x-python",
   "name": "python",
   "nbconvert_exporter": "python",
   "pygments_lexer": "ipython3",
   "version": "3.12.9"
  }
 },
 "nbformat": 4,
 "nbformat_minor": 2
}
