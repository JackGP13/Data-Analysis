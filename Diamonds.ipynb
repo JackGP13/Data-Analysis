{
 "cells": [
  {
   "cell_type": "markdown",
   "id": "f463ff47",
   "metadata": {},
   "source": [
    "# Diamonds\n",
    "\n",
    "##  Predicting is the price of a diamond.\n",
    "Run OLS regressions, fit a Lasso model, and create a random forest for diamond dataset"
   ]
  },
  {
   "cell_type": "markdown",
   "id": "70a9ca76",
   "metadata": {},
   "source": [
    "Load the required packages and diamond dataset"
   ]
  },
  {
   "cell_type": "code",
   "execution_count": 45,
   "id": "032e2e12",
   "metadata": {
    "vscode": {
     "languageId": "r"
    }
   },
   "outputs": [],
   "source": [
    "# Load required packages\n",
    "library(ggplot2)\n",
    "library(dplyr)\n",
    "library(glmnet)\n",
    "library(stats)\n",
    "library(repr)\n",
    "library(rpart) # For tree functions\n",
    "library(randomForest) # For Random Forest\n",
    "\n",
    "# Load the dataset\n",
    "Diamonds <- read.csv(\"Diamonds_sample.csv\", header = TRUE, stringsAsFactors = TRUE)\n",
    "Diamonds <- na.omit(Diamonds) # Remove rows with NA values"
   ]
  },
  {
   "cell_type": "markdown",
   "id": "6de732ea",
   "metadata": {},
   "source": [
    "Print the first few lines of the data and calculate the average cost of a diamond."
   ]
  },
  {
   "cell_type": "code",
   "execution_count": 46,
   "id": "6a77cce1",
   "metadata": {
    "vscode": {
     "languageId": "r"
    }
   },
   "outputs": [
    {
     "data": {
      "text/html": [
       "<table>\n",
       "<thead><tr><th scope=col>ï..GEM_ID</th><th scope=col>carat</th><th scope=col>clarity</th><th scope=col>high_color</th><th scope=col>cut</th><th scope=col>cost</th></tr></thead>\n",
       "<tbody>\n",
       "\t<tr><td>47129    </td><td>0.2746253</td><td>1        </td><td>1        </td><td>1        </td><td>3468.159 </td></tr>\n",
       "\t<tr><td>26282    </td><td>0.4699232</td><td>1        </td><td>1        </td><td>1        </td><td>4814.552 </td></tr>\n",
       "\t<tr><td>25473    </td><td>0.6673995</td><td>1        </td><td>1        </td><td>1        </td><td>6473.046 </td></tr>\n",
       "\t<tr><td>15093    </td><td>0.4628467</td><td>1        </td><td>1        </td><td>1        </td><td>2992.616 </td></tr>\n",
       "\t<tr><td>83048    </td><td>0.5830976</td><td>1        </td><td>0        </td><td>1        </td><td>5471.689 </td></tr>\n",
       "\t<tr><td>22707    </td><td>0.4277917</td><td>1        </td><td>1        </td><td>1        </td><td>3999.953 </td></tr>\n",
       "</tbody>\n",
       "</table>\n"
      ],
      "text/latex": [
       "\\begin{tabular}{r|llllll}\n",
       " ï..GEM\\_ID & carat & clarity & high\\_color & cut & cost\\\\\n",
       "\\hline\n",
       "\t 47129     & 0.2746253 & 1         & 1         & 1         & 3468.159 \\\\\n",
       "\t 26282     & 0.4699232 & 1         & 1         & 1         & 4814.552 \\\\\n",
       "\t 25473     & 0.6673995 & 1         & 1         & 1         & 6473.046 \\\\\n",
       "\t 15093     & 0.4628467 & 1         & 1         & 1         & 2992.616 \\\\\n",
       "\t 83048     & 0.5830976 & 1         & 0         & 1         & 5471.689 \\\\\n",
       "\t 22707     & 0.4277917 & 1         & 1         & 1         & 3999.953 \\\\\n",
       "\\end{tabular}\n"
      ],
      "text/markdown": [
       "\n",
       "| ï..GEM_ID | carat | clarity | high_color | cut | cost |\n",
       "|---|---|---|---|---|---|\n",
       "| 47129     | 0.2746253 | 1         | 1         | 1         | 3468.159  |\n",
       "| 26282     | 0.4699232 | 1         | 1         | 1         | 4814.552  |\n",
       "| 25473     | 0.6673995 | 1         | 1         | 1         | 6473.046  |\n",
       "| 15093     | 0.4628467 | 1         | 1         | 1         | 2992.616  |\n",
       "| 83048     | 0.5830976 | 1         | 0         | 1         | 5471.689  |\n",
       "| 22707     | 0.4277917 | 1         | 1         | 1         | 3999.953  |\n",
       "\n"
      ],
      "text/plain": [
       "  ï..GEM_ID carat     clarity high_color cut cost    \n",
       "1 47129     0.2746253 1       1          1   3468.159\n",
       "2 26282     0.4699232 1       1          1   4814.552\n",
       "3 25473     0.6673995 1       1          1   6473.046\n",
       "4 15093     0.4628467 1       1          1   2992.616\n",
       "5 83048     0.5830976 1       0          1   5471.689\n",
       "6 22707     0.4277917 1       1          1   3999.953"
      ]
     },
     "metadata": {},
     "output_type": "display_data"
    },
    {
     "data": {
      "text/plain": [
       "   ï..GEM_ID         carat            clarity         high_color    \n",
       " Min.   :  235   Min.   :0.03988   Min.   :0.0000   Min.   :0.0000  \n",
       " 1st Qu.:26178   1st Qu.:0.25546   1st Qu.:0.0000   1st Qu.:0.0000  \n",
       " Median :48003   Median :0.36372   Median :1.0000   Median :1.0000  \n",
       " Mean   :49804   Mean   :0.37141   Mean   :0.7366   Mean   :0.6188  \n",
       " 3rd Qu.:73998   3rd Qu.:0.48627   3rd Qu.:1.0000   3rd Qu.:1.0000  \n",
       " Max.   :99651   Max.   :0.88796   Max.   :1.0000   Max.   :1.0000  \n",
       "      cut              cost      \n",
       " Min.   :0.0000   Min.   :-1473  \n",
       " 1st Qu.:0.0000   1st Qu.: 2184  \n",
       " Median :1.0000   Median : 3229  \n",
       " Mean   :0.7109   Mean   : 3266  \n",
       " 3rd Qu.:1.0000   3rd Qu.: 4295  \n",
       " Max.   :1.0000   Max.   : 8556  "
      ]
     },
     "metadata": {},
     "output_type": "display_data"
    }
   ],
   "source": [
    "head(Diamonds)\n",
    "summary(Diamonds) \n",
    "#The average cost (mean) is $3266"
   ]
  },
  {
   "cell_type": "markdown",
   "id": "a758d6af",
   "metadata": {},
   "source": [
    "Prep data to run lasso. Glmnet package requires data as matrices.\n",
    "\n",
    "Remove unnecessary GEM_ID variable from dataset. Create a new dataset that contains all the other variables.\n",
    "\n",
    "Outcome defined as ``cost``"
   ]
  },
  {
   "cell_type": "code",
   "execution_count": 47,
   "id": "7d81a293",
   "metadata": {
    "vscode": {
     "languageId": "r"
    }
   },
   "outputs": [
    {
     "data": {
      "text/html": [
       "<table>\n",
       "<thead><tr><th scope=col>carat</th><th scope=col>clarity</th><th scope=col>high_color</th><th scope=col>cut</th><th scope=col>cost</th></tr></thead>\n",
       "<tbody>\n",
       "\t<tr><td>0.2746253</td><td>1        </td><td>1        </td><td>1        </td><td>3468.159 </td></tr>\n",
       "\t<tr><td>0.4699232</td><td>1        </td><td>1        </td><td>1        </td><td>4814.552 </td></tr>\n",
       "\t<tr><td>0.6673995</td><td>1        </td><td>1        </td><td>1        </td><td>6473.046 </td></tr>\n",
       "\t<tr><td>0.4628467</td><td>1        </td><td>1        </td><td>1        </td><td>2992.616 </td></tr>\n",
       "\t<tr><td>0.5830976</td><td>1        </td><td>0        </td><td>1        </td><td>5471.689 </td></tr>\n",
       "\t<tr><td>0.4277917</td><td>1        </td><td>1        </td><td>1        </td><td>3999.953 </td></tr>\n",
       "</tbody>\n",
       "</table>\n"
      ],
      "text/latex": [
       "\\begin{tabular}{r|lllll}\n",
       " carat & clarity & high\\_color & cut & cost\\\\\n",
       "\\hline\n",
       "\t 0.2746253 & 1         & 1         & 1         & 3468.159 \\\\\n",
       "\t 0.4699232 & 1         & 1         & 1         & 4814.552 \\\\\n",
       "\t 0.6673995 & 1         & 1         & 1         & 6473.046 \\\\\n",
       "\t 0.4628467 & 1         & 1         & 1         & 2992.616 \\\\\n",
       "\t 0.5830976 & 1         & 0         & 1         & 5471.689 \\\\\n",
       "\t 0.4277917 & 1         & 1         & 1         & 3999.953 \\\\\n",
       "\\end{tabular}\n"
      ],
      "text/markdown": [
       "\n",
       "| carat | clarity | high_color | cut | cost |\n",
       "|---|---|---|---|---|\n",
       "| 0.2746253 | 1         | 1         | 1         | 3468.159  |\n",
       "| 0.4699232 | 1         | 1         | 1         | 4814.552  |\n",
       "| 0.6673995 | 1         | 1         | 1         | 6473.046  |\n",
       "| 0.4628467 | 1         | 1         | 1         | 2992.616  |\n",
       "| 0.5830976 | 1         | 0         | 1         | 5471.689  |\n",
       "| 0.4277917 | 1         | 1         | 1         | 3999.953  |\n",
       "\n"
      ],
      "text/plain": [
       "  carat     clarity high_color cut cost    \n",
       "1 0.2746253 1       1          1   3468.159\n",
       "2 0.4699232 1       1          1   4814.552\n",
       "3 0.6673995 1       1          1   6473.046\n",
       "4 0.4628467 1       1          1   2992.616\n",
       "5 0.5830976 1       0          1   5471.689\n",
       "6 0.4277917 1       1          1   3999.953"
      ]
     },
     "metadata": {},
     "output_type": "display_data"
    },
    {
     "data": {
      "text/plain": [
       "     carat            clarity         high_color          cut        \n",
       " Min.   :0.03988   Min.   :0.0000   Min.   :0.0000   Min.   :0.0000  \n",
       " 1st Qu.:0.25546   1st Qu.:0.0000   1st Qu.:0.0000   1st Qu.:0.0000  \n",
       " Median :0.36372   Median :1.0000   Median :1.0000   Median :1.0000  \n",
       " Mean   :0.37141   Mean   :0.7366   Mean   :0.6188   Mean   :0.7109  \n",
       " 3rd Qu.:0.48627   3rd Qu.:1.0000   3rd Qu.:1.0000   3rd Qu.:1.0000  \n",
       " Max.   :0.88796   Max.   :1.0000   Max.   :1.0000   Max.   :1.0000  \n",
       "      cost      \n",
       " Min.   :-1473  \n",
       " 1st Qu.: 2184  \n",
       " Median : 3229  \n",
       " Mean   : 3266  \n",
       " 3rd Qu.: 4295  \n",
       " Max.   : 8556  "
      ]
     },
     "metadata": {},
     "output_type": "display_data"
    },
    {
     "data": {
      "text/html": [
       "<table>\n",
       "<thead><tr><th scope=col>carat</th><th scope=col>clarity</th><th scope=col>high_color</th><th scope=col>cut</th></tr></thead>\n",
       "<tbody>\n",
       "\t<tr><td>0.2746253</td><td>1        </td><td>1        </td><td>1        </td></tr>\n",
       "\t<tr><td>0.4699232</td><td>1        </td><td>1        </td><td>1        </td></tr>\n",
       "\t<tr><td>0.6673995</td><td>1        </td><td>1        </td><td>1        </td></tr>\n",
       "\t<tr><td>0.4628467</td><td>1        </td><td>1        </td><td>1        </td></tr>\n",
       "\t<tr><td>0.5830976</td><td>1        </td><td>0        </td><td>1        </td></tr>\n",
       "\t<tr><td>0.4277917</td><td>1        </td><td>1        </td><td>1        </td></tr>\n",
       "</tbody>\n",
       "</table>\n"
      ],
      "text/latex": [
       "\\begin{tabular}{r|llll}\n",
       " carat & clarity & high\\_color & cut\\\\\n",
       "\\hline\n",
       "\t 0.2746253 & 1         & 1         & 1        \\\\\n",
       "\t 0.4699232 & 1         & 1         & 1        \\\\\n",
       "\t 0.6673995 & 1         & 1         & 1        \\\\\n",
       "\t 0.4628467 & 1         & 1         & 1        \\\\\n",
       "\t 0.5830976 & 1         & 0         & 1        \\\\\n",
       "\t 0.4277917 & 1         & 1         & 1        \\\\\n",
       "\\end{tabular}\n"
      ],
      "text/markdown": [
       "\n",
       "| carat | clarity | high_color | cut |\n",
       "|---|---|---|---|\n",
       "| 0.2746253 | 1         | 1         | 1         |\n",
       "| 0.4699232 | 1         | 1         | 1         |\n",
       "| 0.6673995 | 1         | 1         | 1         |\n",
       "| 0.4628467 | 1         | 1         | 1         |\n",
       "| 0.5830976 | 1         | 0         | 1         |\n",
       "| 0.4277917 | 1         | 1         | 1         |\n",
       "\n"
      ],
      "text/plain": [
       "  carat     clarity high_color cut\n",
       "1 0.2746253 1       1          1  \n",
       "2 0.4699232 1       1          1  \n",
       "3 0.6673995 1       1          1  \n",
       "4 0.4628467 1       1          1  \n",
       "5 0.5830976 1       0          1  \n",
       "6 0.4277917 1       1          1  "
      ]
     },
     "metadata": {},
     "output_type": "display_data"
    }
   ],
   "source": [
    "newvars <- c(\"carat\",\"clarity\", \"high_color\", \"cut\", \"cost\")\n",
    "dataSet <- Diamonds[newvars]\n",
    "head(dataSet)\n",
    "summary(dataSet)\n",
    "x <- model.matrix(cost~., dataSet)[,-1]\n",
    "head(x)\n",
    "y <- dataSet$cost"
   ]
  },
  {
   "cell_type": "markdown",
   "id": "9ead62e0",
   "metadata": {},
   "source": [
    "# Divide the data into training and testing data.\n",
    "\n",
    "Data split evenly into train and test datasets. Seed set and ``sample()`` used to select which observations go into the training dataset."
   ]
  },
  {
   "cell_type": "code",
   "execution_count": 48,
   "id": "e71cce44",
   "metadata": {
    "vscode": {
     "languageId": "r"
    }
   },
   "outputs": [
    {
     "name": "stdout",
     "output_type": "stream",
     "text": [
      "[1] \"training Y data\"\n"
     ]
    },
    {
     "data": {
      "text/html": [
       "<ol class=list-inline>\n",
       "\t<li>3964.802246</li>\n",
       "\t<li>6343.298828</li>\n",
       "\t<li>597.0237427</li>\n",
       "\t<li>6045.466309</li>\n",
       "\t<li>2631.72998</li>\n",
       "\t<li>3624.875</li>\n",
       "</ol>\n"
      ],
      "text/latex": [
       "\\begin{enumerate*}\n",
       "\\item 3964.802246\n",
       "\\item 6343.298828\n",
       "\\item 597.0237427\n",
       "\\item 6045.466309\n",
       "\\item 2631.72998\n",
       "\\item 3624.875\n",
       "\\end{enumerate*}\n"
      ],
      "text/markdown": [
       "1. 3964.802246\n",
       "2. 6343.298828\n",
       "3. 597.0237427\n",
       "4. 6045.466309\n",
       "5. 2631.72998\n",
       "6. 3624.875\n",
       "\n",
       "\n"
      ],
      "text/plain": [
       "[1] 3964.8022 6343.2988  597.0237 6045.4663 2631.7300 3624.8750"
      ]
     },
     "metadata": {},
     "output_type": "display_data"
    },
    {
     "name": "stdout",
     "output_type": "stream",
     "text": [
      "[1] \"training X data\"\n"
     ]
    },
    {
     "data": {
      "text/html": [
       "<table>\n",
       "<thead><tr><th></th><th scope=col>carat</th><th scope=col>clarity</th><th scope=col>high_color</th><th scope=col>cut</th></tr></thead>\n",
       "<tbody>\n",
       "\t<tr><th scope=row>234</th><td>0.5257404</td><td>1        </td><td>0        </td><td>1        </td></tr>\n",
       "\t<tr><th scope=row>344</th><td>0.6961828</td><td>1        </td><td>1        </td><td>1        </td></tr>\n",
       "\t<tr><th scope=row>400</th><td>0.3623806</td><td>0        </td><td>0        </td><td>0        </td></tr>\n",
       "\t<tr><th scope=row>349</th><td>0.6948458</td><td>0        </td><td>0        </td><td>1        </td></tr>\n",
       "\t<tr><th scope=row>369</th><td>0.4214361</td><td>0        </td><td>1        </td><td>1        </td></tr>\n",
       "\t<tr><th scope=row>117</th><td>0.4194272</td><td>1        </td><td>0        </td><td>0        </td></tr>\n",
       "</tbody>\n",
       "</table>\n"
      ],
      "text/latex": [
       "\\begin{tabular}{r|llll}\n",
       "  & carat & clarity & high\\_color & cut\\\\\n",
       "\\hline\n",
       "\t234 & 0.5257404 & 1         & 0         & 1        \\\\\n",
       "\t344 & 0.6961828 & 1         & 1         & 1        \\\\\n",
       "\t400 & 0.3623806 & 0         & 0         & 0        \\\\\n",
       "\t349 & 0.6948458 & 0         & 0         & 1        \\\\\n",
       "\t369 & 0.4214361 & 0         & 1         & 1        \\\\\n",
       "\t117 & 0.4194272 & 1         & 0         & 0        \\\\\n",
       "\\end{tabular}\n"
      ],
      "text/markdown": [
       "\n",
       "| <!--/--> | carat | clarity | high_color | cut |\n",
       "|---|---|---|---|---|\n",
       "| 234 | 0.5257404 | 1         | 0         | 1         |\n",
       "| 344 | 0.6961828 | 1         | 1         | 1         |\n",
       "| 400 | 0.3623806 | 0         | 0         | 0         |\n",
       "| 349 | 0.6948458 | 0         | 0         | 1         |\n",
       "| 369 | 0.4214361 | 0         | 1         | 1         |\n",
       "| 117 | 0.4194272 | 1         | 0         | 0         |\n",
       "\n"
      ],
      "text/plain": [
       "    carat     clarity high_color cut\n",
       "234 0.5257404 1       0          1  \n",
       "344 0.6961828 1       1          1  \n",
       "400 0.3623806 0       0          0  \n",
       "349 0.6948458 0       0          1  \n",
       "369 0.4214361 0       1          1  \n",
       "117 0.4194272 1       0          0  "
      ]
     },
     "metadata": {},
     "output_type": "display_data"
    },
    {
     "name": "stdout",
     "output_type": "stream",
     "text": [
      "[1] \"test Y data\"\n"
     ]
    },
    {
     "data": {
      "text/html": [
       "<ol class=list-inline>\n",
       "\t<li>3468.159424</li>\n",
       "\t<li>5471.689453</li>\n",
       "\t<li>3017.377686</li>\n",
       "\t<li>3350.736328</li>\n",
       "\t<li>4035.405762</li>\n",
       "\t<li>3107.022949</li>\n",
       "</ol>\n"
      ],
      "text/latex": [
       "\\begin{enumerate*}\n",
       "\\item 3468.159424\n",
       "\\item 5471.689453\n",
       "\\item 3017.377686\n",
       "\\item 3350.736328\n",
       "\\item 4035.405762\n",
       "\\item 3107.022949\n",
       "\\end{enumerate*}\n"
      ],
      "text/markdown": [
       "1. 3468.159424\n",
       "2. 5471.689453\n",
       "3. 3017.377686\n",
       "4. 3350.736328\n",
       "5. 4035.405762\n",
       "6. 3107.022949\n",
       "\n",
       "\n"
      ],
      "text/plain": [
       "[1] 3468.159 5471.689 3017.378 3350.736 4035.406 3107.023"
      ]
     },
     "metadata": {},
     "output_type": "display_data"
    },
    {
     "name": "stdout",
     "output_type": "stream",
     "text": [
      "[1] \"test X data\"\n"
     ]
    },
    {
     "data": {
      "text/html": [
       "<table>\n",
       "<thead><tr><th></th><th scope=col>carat</th><th scope=col>clarity</th><th scope=col>high_color</th><th scope=col>cut</th></tr></thead>\n",
       "<tbody>\n",
       "\t<tr><th scope=row>1</th><td>0.2746253</td><td>1        </td><td>1        </td><td>1        </td></tr>\n",
       "\t<tr><th scope=row>5</th><td>0.5830976</td><td>1        </td><td>0        </td><td>1        </td></tr>\n",
       "\t<tr><th scope=row>8</th><td>0.2618203</td><td>1        </td><td>1        </td><td>1        </td></tr>\n",
       "\t<tr><th scope=row>10</th><td>0.5300826</td><td>1        </td><td>0        </td><td>1        </td></tr>\n",
       "\t<tr><th scope=row>13</th><td>0.4064561</td><td>1        </td><td>1        </td><td>1        </td></tr>\n",
       "\t<tr><th scope=row>15</th><td>0.3289343</td><td>1        </td><td>1        </td><td>1        </td></tr>\n",
       "</tbody>\n",
       "</table>\n"
      ],
      "text/latex": [
       "\\begin{tabular}{r|llll}\n",
       "  & carat & clarity & high\\_color & cut\\\\\n",
       "\\hline\n",
       "\t1 & 0.2746253 & 1         & 1         & 1        \\\\\n",
       "\t5 & 0.5830976 & 1         & 0         & 1        \\\\\n",
       "\t8 & 0.2618203 & 1         & 1         & 1        \\\\\n",
       "\t10 & 0.5300826 & 1         & 0         & 1        \\\\\n",
       "\t13 & 0.4064561 & 1         & 1         & 1        \\\\\n",
       "\t15 & 0.3289343 & 1         & 1         & 1        \\\\\n",
       "\\end{tabular}\n"
      ],
      "text/markdown": [
       "\n",
       "| <!--/--> | carat | clarity | high_color | cut |\n",
       "|---|---|---|---|---|\n",
       "| 1 | 0.2746253 | 1         | 1         | 1         |\n",
       "| 5 | 0.5830976 | 1         | 0         | 1         |\n",
       "| 8 | 0.2618203 | 1         | 1         | 1         |\n",
       "| 10 | 0.5300826 | 1         | 0         | 1         |\n",
       "| 13 | 0.4064561 | 1         | 1         | 1         |\n",
       "| 15 | 0.3289343 | 1         | 1         | 1         |\n",
       "\n"
      ],
      "text/plain": [
       "   carat     clarity high_color cut\n",
       "1  0.2746253 1       1          1  \n",
       "5  0.5830976 1       0          1  \n",
       "8  0.2618203 1       1          1  \n",
       "10 0.5300826 1       0          1  \n",
       "13 0.4064561 1       1          1  \n",
       "15 0.3289343 1       1          1  "
      ]
     },
     "metadata": {},
     "output_type": "display_data"
    }
   ],
   "source": [
    "set.seed(555) # Set seed for reproducibility\n",
    "# Create a training set and a test set\n",
    "train_row <- sample(1:nrow(x),nrow(x)/2) #half of the rows make the training set\n",
    "y_train <- y[train_row] \n",
    "x_train <- x[train_row,] \n",
    "print(\"training Y data\")\n",
    "head(y_train)\n",
    "print(\"training X data\")\n",
    "head(x_train)\n",
    "\n",
    "# Assign leftover to test sample\n",
    "y_test <- y[-train_row] \n",
    "x_test <- x[-train_row,]\n",
    "print(\"test Y data\")\n",
    "head(y_test)\n",
    "print(\"test X data\")\n",
    "head(x_test)"
   ]
  },
  {
   "cell_type": "markdown",
   "id": "9d9a683e",
   "metadata": {},
   "source": [
    "## Lasso\n",
    "\n",
    "Lasso model created using ``glmnet()`` and plotted"
   ]
  },
  {
   "cell_type": "code",
   "execution_count": 49,
   "id": "003e4a5f",
   "metadata": {
    "vscode": {
     "languageId": "r"
    }
   },
   "outputs": [
    {
     "data": {
      "image/png": "[encoded data removed]",
      "text/plain": [
       "plot without title"
      ]
     },
     "metadata": {},
     "output_type": "display_data"
    }
   ],
   "source": [
    "#Fit to full dataset with chosen lambda, examine coefficients\n",
    "lasso_train <- glmnet(x_train, y_train, alpha=1) #alpha = 1 means lasso.\n",
    "\n",
    "#Examine coefficients as lambda increases\n",
    "plot(lasso_train, xvar = \"lambda\", label = TRUE) \n",
    "#graph shows the coefficient for any given lambda. The larger lambda is, the smaller each coefficient gets."
   ]
  },
  {
   "cell_type": "markdown",
   "id": "40024bc2",
   "metadata": {},
   "source": [
    "Optimal lambda for a Lasso model selected using cross-validation (``cv.glmnet()``), based on the the lambda that produce the best $R^2$. Using ``nfolds=10`` (the default). Print the optimal lambda. "
   ]
  },
  {
   "cell_type": "code",
   "execution_count": 50,
   "id": "d28b9da2",
   "metadata": {
    "vscode": {
     "languageId": "r"
    }
   },
   "outputs": [
    {
     "name": "stdout",
     "output_type": "stream",
     "text": [
      "[1] \"First graph is Log Lambda. Second is Lambda\"\n"
     ]
    },
    {
     "data": {
      "image/png": "[encoded data removed]",
      "text/plain": [
       "plot without title"
      ]
     },
     "metadata": {},
     "output_type": "display_data"
    },
    {
     "data": {
      "image/png": "[encoded data removed]",
      "text/plain": [
       "plot without title"
      ]
     },
     "metadata": {},
     "output_type": "display_data"
    }
   ],
   "source": [
    "#Set seed for replication\n",
    "set.seed(555)\n",
    "\n",
    "#Function to calculate cross-validation errors for all lambda\n",
    "cv_lasso <- cv.glmnet(x_train, y_train, alpha=1, nfolds=10)\n",
    "\n",
    "# Calculate the r-squared of the model for each lambda \n",
    "r2 <- 1 - cv_lasso$cvm/var(y_train) \n",
    "\n",
    "# Plots log(lambda) and R2\n",
    "print(\"First graph is Log Lambda. Second is Lambda\")\n",
    "plot(log(cv_lasso$lambda), r2, xlab=\"Log(Lambda)\", ylab=\"R-Squared\", col=\"Blue\")\n",
    "plot(cv_lasso$lambda, r2, xlab=\"Lambda\", ylab=\"R-Squared\", col=\"Blue\")"
   ]
  },
  {
   "cell_type": "markdown",
   "id": "208eaa79",
   "metadata": {},
   "source": [
    "Show coefficients of the Lasso model with the optimal lambda"
   ]
  },
  {
   "cell_type": "code",
   "execution_count": 51,
   "id": "dd570d37",
   "metadata": {
    "vscode": {
     "languageId": "r"
    }
   },
   "outputs": [
    {
     "name": "stdout",
     "output_type": "stream",
     "text": [
      "[1] \"max R^2\"\n"
     ]
    },
    {
     "data": {
      "text/html": [
       "0.712150298651612"
      ],
      "text/latex": [
       "0.712150298651612"
      ],
      "text/markdown": [
       "0.712150298651612"
      ],
      "text/plain": [
       "[1] 0.7121503"
      ]
     },
     "metadata": {},
     "output_type": "display_data"
    },
    {
     "name": "stdout",
     "output_type": "stream",
     "text": [
      "[1] \"best Lambda\"\n"
     ]
    },
    {
     "data": {
      "text/html": [
       "5.89272311707614"
      ],
      "text/latex": [
       "5.89272311707614"
      ],
      "text/markdown": [
       "5.89272311707614"
      ],
      "text/plain": [
       "[1] 5.892723"
      ]
     },
     "metadata": {},
     "output_type": "display_data"
    },
    {
     "name": "stdout",
     "output_type": "stream",
     "text": [
      "[1] \"log of best lambda\"\n"
     ]
    },
    {
     "data": {
      "text/html": [
       "1.77371821969784"
      ],
      "text/latex": [
       "1.77371821969784"
      ],
      "text/markdown": [
       "1.77371821969784"
      ],
      "text/plain": [
       "[1] 1.773718"
      ]
     },
     "metadata": {},
     "output_type": "display_data"
    },
    {
     "data": {
      "text/plain": [
       "5 x 1 sparse Matrix of class \"dgCMatrix\"\n",
       "                    1\n",
       "(Intercept) -893.5779\n",
       "carat       7131.3271\n",
       "clarity      525.3367\n",
       "high_color  1266.3479\n",
       "cut          381.9392"
      ]
     },
     "metadata": {},
     "output_type": "display_data"
    }
   ],
   "source": [
    "print(\"max R^2\")\n",
    "max(r2)\n",
    "print(\"best Lambda\")\n",
    "best_lambda <- cv_lasso$lambda[which(r2==max(r2))] #stores the optimal lamda\n",
    "best_lambda\n",
    "print(\"log of best lambda\")\n",
    "log(best_lambda)\n",
    "\n",
    "coef(cv_lasso, s = best_lambda, exact = TRUE, x = x_train, y = y_train)\n",
    "#x_train is matrix of covariates used to estimate the model, y_train is vector of outcome variable used in the estimation"
   ]
  },
  {
   "cell_type": "markdown",
   "id": "564233fb",
   "metadata": {},
   "source": [
    "Calculate the Lasso in-sample prediction performance indicator $R^2$ using the optimal lambda. To do this, you have to generate a prediction of the outcome variable using the Lasso model and the training dataset."
   ]
  },
  {
   "cell_type": "code",
   "execution_count": 52,
   "id": "99bb1352",
   "metadata": {
    "vscode": {
     "languageId": "r"
    }
   },
   "outputs": [
    {
     "name": "stdout",
     "output_type": "stream",
     "text": [
      "[1] \"Lasso In-sample R-squared\"\n"
     ]
    },
    {
     "data": {
      "text/html": [
       "0.729691287067226"
      ],
      "text/latex": [
       "0.729691287067226"
      ],
      "text/markdown": [
       "0.729691287067226"
      ],
      "text/plain": [
       "[1] 0.7296913"
      ]
     },
     "metadata": {},
     "output_type": "display_data"
    }
   ],
   "source": [
    "# Run lasso with selected lambda on train and test set, get r-square for both\n",
    "lasso_predict_in <- predict(lasso_train, s=best_lambda, newx = x_train)\n",
    "lasso_predict_out <- predict(lasso_train, s=best_lambda, newx = x_test)\n",
    "\n",
    "# Calculate r-square for lasso\n",
    "print('Lasso In-sample R-squared')\n",
    "1-mean((lasso_predict_in-y_train)^2)/var(y_train) "
   ]
  },
  {
   "cell_type": "markdown",
   "id": "70d1ca92",
   "metadata": {},
   "source": [
    "Calculate the Lasso out-of-sample prediction performance indicator $R^2$. To do this, you have to generate a prediction of the outcome variable using the Lasso model and the test dataset."
   ]
  },
  {
   "cell_type": "code",
   "execution_count": 53,
   "id": "833f9d8d",
   "metadata": {
    "vscode": {
     "languageId": "r"
    }
   },
   "outputs": [
    {
     "name": "stdout",
     "output_type": "stream",
     "text": [
      "[1] \"Lasso Out-of-sample R-squared\"\n"
     ]
    },
    {
     "data": {
      "text/html": [
       "0.70445892283054"
      ],
      "text/latex": [
       "0.70445892283054"
      ],
      "text/markdown": [
       "0.70445892283054"
      ],
      "text/plain": [
       "[1] 0.7044589"
      ]
     },
     "metadata": {},
     "output_type": "display_data"
    }
   ],
   "source": [
    "print('Lasso Out-of-sample R-squared')\n",
    "1-mean((lasso_predict_out-y_test)^2)/var(y_test)"
   ]
  },
  {
   "cell_type": "markdown",
   "id": "699e5033",
   "metadata": {},
   "source": [
    "## OLS \n",
    "Lasso models belong to the family of linear models. Ordinary Least Squares (OLS), is the best linear unbiased estimator (BLUE), the coefficients from running OLS are an unbiased estimate of the true linear relationship. Lasso differ from OLS by introducing bias into the estimates but reducing variance in the estimates to overall offer better prediction accuracy.  \n",
    "\n",
    "Estimates an OLS regression on the training dataset (same predictors and outcome). Sets lambda to 0 (``lambda=0``) instead of the optimal lambda. "
   ]
  },
  {
   "cell_type": "code",
   "execution_count": 54,
   "id": "fe14711c",
   "metadata": {
    "vscode": {
     "languageId": "r"
    }
   },
   "outputs": [],
   "source": [
    "#Run OLS with selected lambda on test set, get r-squared for both\n",
    "ols_train <- glmnet(x_train, y_train, alpha=1, lambda=0)\n",
    "ols_predict_in <- predict(ols_train, s=0, newx = x_train)\n",
    "ols_predict_out <- predict(ols_train, s=0, newx = x_test)"
   ]
  },
  {
   "cell_type": "markdown",
   "id": "d0577b51",
   "metadata": {},
   "source": [
    "Calculate the OLS in-sample prediction performance indicator $R^2$. Generate a prediction of the outcome variable using the OLS model and the training dataset."
   ]
  },
  {
   "cell_type": "code",
   "execution_count": 55,
   "id": "1bb2c48c",
   "metadata": {
    "vscode": {
     "languageId": "r"
    }
   },
   "outputs": [
    {
     "name": "stdout",
     "output_type": "stream",
     "text": [
      "[1] \"OLS In-sample R-squared\"\n"
     ]
    },
    {
     "data": {
      "text/html": [
       "0.729730408168813"
      ],
      "text/latex": [
       "0.729730408168813"
      ],
      "text/markdown": [
       "0.729730408168813"
      ],
      "text/plain": [
       "[1] 0.7297304"
      ]
     },
     "metadata": {},
     "output_type": "display_data"
    }
   ],
   "source": [
    "# Calculate r-square for OLS\n",
    "print('OLS In-sample R-squared')\n",
    "1-mean((ols_predict_in-y_train)^2)/var(y_train) "
   ]
  },
  {
   "cell_type": "markdown",
   "id": "3300c4a7",
   "metadata": {},
   "source": [
    "Calculate OLS out-of-sample prediction performance indicator $R^2$. Generate a prediction of the outcome variable using the Lasso model and the test dataset."
   ]
  },
  {
   "cell_type": "code",
   "execution_count": 56,
   "id": "0a6e8e02",
   "metadata": {
    "scrolled": false,
    "vscode": {
     "languageId": "r"
    }
   },
   "outputs": [
    {
     "name": "stdout",
     "output_type": "stream",
     "text": [
      "[1] \"OLS Out-of-sample R-squared\"\n"
     ]
    },
    {
     "data": {
      "text/html": [
       "0.703170189853944"
      ],
      "text/latex": [
       "0.703170189853944"
      ],
      "text/markdown": [
       "0.703170189853944"
      ],
      "text/plain": [
       "[1] 0.7031702"
      ]
     },
     "metadata": {},
     "output_type": "display_data"
    },
    {
     "data": {
      "text/plain": [
       "5 x 1 sparse Matrix of class \"dgCMatrix\"\n",
       "                    1\n",
       "(Intercept) -667.4681\n",
       "carat       7115.6819\n",
       "clarity      465.1563\n",
       "high_color  1150.0105\n",
       "cut          332.4517"
      ]
     },
     "metadata": {},
     "output_type": "display_data"
    }
   ],
   "source": [
    "print('OLS Out-of-sample R-squared')\n",
    "1-mean((ols_predict_out-y_test)^2)/var(y_test) \n",
    "ols <- predict(cv_lasso, type=\"coefficients\", s=0, exact=T, x=x, y=y)\n",
    "ols"
   ]
  },
  {
   "cell_type": "markdown",
   "id": "12a54755",
   "metadata": {},
   "source": [
    "### In Sample\n",
    "\n",
    "The Lasso model has an in-sample R2 of 0.729697943. The OLS model has an in-sample R2 of 0.729730408. The OLS model is just slightly better in-sample because of a marginally larger R2"
   ]
  },
  {
   "cell_type": "markdown",
   "id": "6545bfa6",
   "metadata": {},
   "source": [
    "### Out of Sample\n",
    "\n",
    "The Lasso model has an out-of sample R2 of 0.7044. The OLS model has an out-of sample R2 of 0.7032. The Lasso model is slightly better out of sample because of a larger R2"
   ]
  },
  {
   "cell_type": "markdown",
   "id": "8560b9c3",
   "metadata": {},
   "source": [
    "# Tree to Random Forest"
   ]
  },
  {
   "cell_type": "code",
   "execution_count": 57,
   "id": "83d069c0",
   "metadata": {
    "vscode": {
     "languageId": "r"
    }
   },
   "outputs": [
    {
     "data": {
      "text/html": [
       "<table>\n",
       "<thead><tr><th></th><th scope=col>carat</th><th scope=col>clarity</th><th scope=col>high_color</th><th scope=col>cut</th><th scope=col>cost</th></tr></thead>\n",
       "<tbody>\n",
       "\t<tr><th scope=row>324</th><td>0.4242365</td><td>1        </td><td>1        </td><td>1        </td><td>3856.202 </td></tr>\n",
       "\t<tr><th scope=row>167</th><td>0.4486376</td><td>1        </td><td>0        </td><td>0        </td><td>3375.712 </td></tr>\n",
       "\t<tr><th scope=row>129</th><td>0.2878616</td><td>1        </td><td>1        </td><td>1        </td><td>2731.184 </td></tr>\n",
       "\t<tr><th scope=row>418</th><td>0.4448540</td><td>0        </td><td>0        </td><td>0        </td><td>2408.939 </td></tr>\n",
       "\t<tr><th scope=row>299</th><td>0.2560836</td><td>1        </td><td>1        </td><td>1        </td><td>2080.617 </td></tr>\n",
       "\t<tr><th scope=row>270</th><td>0.5616781</td><td>1        </td><td>0        </td><td>1        </td><td>4460.562 </td></tr>\n",
       "</tbody>\n",
       "</table>\n"
      ],
      "text/latex": [
       "\\begin{tabular}{r|lllll}\n",
       "  & carat & clarity & high\\_color & cut & cost\\\\\n",
       "\\hline\n",
       "\t324 & 0.4242365 & 1         & 1         & 1         & 3856.202 \\\\\n",
       "\t167 & 0.4486376 & 1         & 0         & 0         & 3375.712 \\\\\n",
       "\t129 & 0.2878616 & 1         & 1         & 1         & 2731.184 \\\\\n",
       "\t418 & 0.4448540 & 0         & 0         & 0         & 2408.939 \\\\\n",
       "\t299 & 0.2560836 & 1         & 1         & 1         & 2080.617 \\\\\n",
       "\t270 & 0.5616781 & 1         & 0         & 1         & 4460.562 \\\\\n",
       "\\end{tabular}\n"
      ],
      "text/markdown": [
       "\n",
       "| <!--/--> | carat | clarity | high_color | cut | cost |\n",
       "|---|---|---|---|---|---|\n",
       "| 324 | 0.4242365 | 1         | 1         | 1         | 3856.202  |\n",
       "| 167 | 0.4486376 | 1         | 0         | 0         | 3375.712  |\n",
       "| 129 | 0.2878616 | 1         | 1         | 1         | 2731.184  |\n",
       "| 418 | 0.4448540 | 0         | 0         | 0         | 2408.939  |\n",
       "| 299 | 0.2560836 | 1         | 1         | 1         | 2080.617  |\n",
       "| 270 | 0.5616781 | 1         | 0         | 1         | 4460.562  |\n",
       "\n"
      ],
      "text/plain": [
       "    carat     clarity high_color cut cost    \n",
       "324 0.4242365 1       1          1   3856.202\n",
       "167 0.4486376 1       0          0   3375.712\n",
       "129 0.2878616 1       1          1   2731.184\n",
       "418 0.4448540 0       0          0   2408.939\n",
       "299 0.2560836 1       1          1   2080.617\n",
       "270 0.5616781 1       0          1   4460.562"
      ]
     },
     "metadata": {},
     "output_type": "display_data"
    }
   ],
   "source": [
    "# Set a seed for reproducibility\n",
    "set.seed(1)\n",
    "\n",
    "# Create train and test sets (50% for training, 50% for testing)\n",
    "train_rows <- sample(1:nrow(dataSet), nrow(dataSet)/2)\n",
    "train <- dataSet[train_rows,]\n",
    "test <- dataSet[-train_rows,]\n",
    "\n",
    "head(train)"
   ]
  },
  {
   "cell_type": "markdown",
   "id": "157fd705",
   "metadata": {},
   "source": [
    "## Fully Grown Tree\n",
    "\n",
    "Simple classification tree using the training data to predict whether the diamond is a high value color or not (``high_color``). Tree initially grown without any pruning or depth parameters: set `` cp=0, minsplit=2, minbucket=1``. Display the confusion matrix and calculate the mean squared error in the testing data. "
   ]
  },
  {
   "cell_type": "code",
   "execution_count": 58,
   "id": "503ff755",
   "metadata": {
    "vscode": {
     "languageId": "r"
    }
   },
   "outputs": [
    {
     "data": {
      "text/html": [
       "0.0982905982905983"
      ],
      "text/latex": [
       "0.0982905982905983"
      ],
      "text/markdown": [
       "0.0982905982905983"
      ],
      "text/plain": [
       "[1] 0.0982906"
      ]
     },
     "metadata": {},
     "output_type": "display_data"
    },
    {
     "data": {
      "text/plain": [
       "   \n",
       "      0   1\n",
       "  0  73  11\n",
       "  1  12 138"
      ]
     },
     "metadata": {},
     "output_type": "display_data"
    }
   ],
   "source": [
    "# Simple classification tree training data using all of the variables\n",
    "full_tree <- rpart(as.factor(high_color)~., train, method=\"class\", control=rpart.control(cp=0, minsplit=2, minbucket=1))\n",
    "\n",
    "# Fit model to test data\n",
    "pred <- predict(full_tree, test, type=\"class\")\n",
    "test$pred <- ifelse(pred==1, 1, 0)\n",
    "\n",
    "# Calculate MSE, which is just % incorrect predictions\n",
    "mean((test$pred-test$high_color)^2)\n",
    "\n",
    "# Display the \"confusion\" table where we have the predicted values vs. actual values\n",
    "confusion <- table(test$pred, test$high_color)\n",
    "confusion"
   ]
  },
  {
   "cell_type": "markdown",
   "id": "c442157d",
   "metadata": {},
   "source": [
    "Plot the tree"
   ]
  },
  {
   "cell_type": "code",
   "execution_count": 59,
   "id": "acc60378",
   "metadata": {
    "vscode": {
     "languageId": "r"
    }
   },
   "outputs": [
    {
     "data": {
      "image/png": "[encoded data removed]",
      "text/plain": [
       "Plot with title \"Diamonds - Full\""
      ]
     },
     "metadata": {},
     "output_type": "display_data"
    }
   ],
   "source": [
    "# Plotting options\n",
    "options(repr.plot.width=10, repr.plot.height=15) # makes size more adequate\n",
    "\n",
    "# Plot the tree\n",
    "plot(full_tree, uniform=TRUE, main=\"Diamonds - Full\") # plot tree\n",
    "text(full_tree, use.n=TRUE, all=TRUE, cex=0.6) # add labels to tree"
   ]
  },
  {
   "cell_type": "markdown",
   "id": "3e0dbdc0",
   "metadata": {},
   "source": [
    "## Pruned Tree\n",
    "\n",
    "Create a new tree with the pruning parameter ``cp=0.05`` (leave the ``minsplit`` and ``minbucket`` parameters the same). Display the confusion matrix and calculate its MSE in the test data. "
   ]
  },
  {
   "cell_type": "code",
   "execution_count": 60,
   "id": "1f7b38e9",
   "metadata": {
    "vscode": {
     "languageId": "r"
    }
   },
   "outputs": [
    {
     "data": {
      "text/html": [
       "0.0897435897435897"
      ],
      "text/latex": [
       "0.0897435897435897"
      ],
      "text/markdown": [
       "0.0897435897435897"
      ],
      "text/plain": [
       "[1] 0.08974359"
      ]
     },
     "metadata": {},
     "output_type": "display_data"
    },
    {
     "data": {
      "text/plain": [
       "   \n",
       "      0   1\n",
       "  0  74  10\n",
       "  1  11 139"
      ]
     },
     "metadata": {},
     "output_type": "display_data"
    }
   ],
   "source": [
    "# Prune the tree to avoid overfitting\n",
    "# Simple classification pruned tree on training data using all of the variables\n",
    "pruned_tree <- rpart(as.factor(high_color)~., train, method=\"class\", control=rpart.control(cp=0.05, minsplit=2, minbucket=1))\n",
    "\n",
    "# Fit model to test data\n",
    "pred2 <- predict(pruned_tree, test, type=\"class\")\n",
    "test$pred2 <- ifelse(pred2==1, 1, 0)\n",
    "\n",
    "# Calculate MSE\n",
    "mean((test$pred2-test$high_color)^2)\n",
    "\n",
    "# Display the \"confusion\" table where we have the predicted values vs. actual values\n",
    "confusion2 <- table(test$pred2, test$high_color)\n",
    "confusion2"
   ]
  },
  {
   "cell_type": "markdown",
   "id": "6fe04153",
   "metadata": {},
   "source": [
    "Plot the Pruned Tree"
   ]
  },
  {
   "cell_type": "code",
   "execution_count": 61,
   "id": "016f6aab",
   "metadata": {
    "vscode": {
     "languageId": "r"
    }
   },
   "outputs": [
    {
     "data": {
      "image/png": "[encoded data removed]",
      "text/plain": [
       "Plot with title \"Diamonds - Pruned\""
      ]
     },
     "metadata": {},
     "output_type": "display_data"
    }
   ],
   "source": [
    "# Plotting options\n",
    "options(repr.plot.width=10, repr.plot.height=15) # makes size more adequate\n",
    "\n",
    "# Plot the tree\n",
    "plot(pruned_tree, uniform=TRUE, main=\"Diamonds - Pruned\") # plot tree\n",
    "text(pruned_tree, use.n=TRUE, all=TRUE, cex=0.6) # add labels to tree"
   ]
  },
  {
   "cell_type": "markdown",
   "id": "00e60368",
   "metadata": {},
   "source": [
    "## Random Forest\n",
    "Use a random forest model to predict the diamond color."
   ]
  },
  {
   "cell_type": "markdown",
   "id": "6c1562ef",
   "metadata": {},
   "source": [
    "Run a random forest model on the training data. Seed set to 1 and number of trees set at 500, minimum terminal node size set to 1, and the number of variables sampled at each split set to 2 (``ntree = 500 , nodesize = 1, mtry = 2``). "
   ]
  },
  {
   "cell_type": "code",
   "execution_count": 62,
   "id": "5abbd252",
   "metadata": {
    "vscode": {
     "languageId": "r"
    }
   },
   "outputs": [
    {
     "data": {
      "text/html": [
       "0.0811965811965812"
      ],
      "text/latex": [
       "0.0811965811965812"
      ],
      "text/markdown": [
       "0.0811965811965812"
      ],
      "text/plain": [
       "[1] 0.08119658"
      ]
     },
     "metadata": {},
     "output_type": "display_data"
    }
   ],
   "source": [
    "# Set seed  for replicating results as there's a lot of randomization that happens in Random Forests\n",
    "set.seed(1)\n",
    "\n",
    "# Fit the training data using a Random Forest model\n",
    "forest <- randomForest(as.factor(high_color)~., data=train, mtry=2, nodesize=1, ntree=500)\n",
    "\n",
    "# Predict outcomes on the test data\n",
    "pred_forest <- predict(forest, newdata=test)\n",
    "\n",
    "# Calculate MSE\n",
    "test$pred_forest <- ifelse(pred_forest==1, 1, 0)\n",
    "mean((test$pred_forest-test$high_color)^2)"
   ]
  },
  {
   "cell_type": "markdown",
   "id": "1a705890",
   "metadata": {},
   "source": [
    "Use model to predict test dataset outcomes. Compare predicted and actual outcomes in a confusion matrix.  Calculate the error rate."
   ]
  },
  {
   "cell_type": "code",
   "execution_count": 63,
   "id": "93bb45f2",
   "metadata": {
    "vscode": {
     "languageId": "r"
    }
   },
   "outputs": [
    {
     "data": {
      "text/plain": [
       "           \n",
       "pred_forest   0   1\n",
       "          0  74   8\n",
       "          1  11 141"
      ]
     },
     "metadata": {},
     "output_type": "display_data"
    },
    {
     "data": {
      "text/html": [
       "0.0811965811965812"
      ],
      "text/latex": [
       "0.0811965811965812"
      ],
      "text/markdown": [
       "0.0811965811965812"
      ],
      "text/plain": [
       "[1] 0.08119658"
      ]
     },
     "metadata": {},
     "output_type": "display_data"
    }
   ],
   "source": [
    "# Display confusion matrix\n",
    "confusion_forest <- table(pred_forest, test$high_color)\n",
    "confusion_forest\n",
    "\n",
    "# Calculate MSE\n",
    "test$pred_forest <- ifelse(pred_forest==1, 1, 0)\n",
    "mean((test$pred_forest-test$high_color)^2)"
   ]
  }
 ],
 "metadata": {
  "kernelspec": {
   "display_name": "R",
   "language": "R",
   "name": "ir"
  },
  "language_info": {
   "codemirror_mode": "r",
   "file_extension": ".r",
   "mimetype": "text/x-r-source",
   "name": "R",
   "pygments_lexer": "r",
   "version": "3.6.1"
  }
 },
 "nbformat": 4,
 "nbformat_minor": 5
}
