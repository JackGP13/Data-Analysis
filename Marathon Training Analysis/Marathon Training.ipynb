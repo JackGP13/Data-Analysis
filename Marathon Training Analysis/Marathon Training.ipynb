{
 "cells": [
  {
   "attachments": {},
   "cell_type": "markdown",
   "metadata": {},
   "source": [
    "Import Libraries"
   ]
  },
  {
   "cell_type": "code",
   "execution_count": 687,
   "metadata": {},
   "outputs": [],
   "source": [
    "import numpy as np\n",
    "import pandas as pd\n",
    "from sklearn.model_selection import GridSearchCV\n",
    "from sklearn.model_selection import train_test_split\n",
    "from sklearn.linear_model import Lasso\n",
    "from sklearn.metrics import mean_squared_error, r2_score  # For evaluation\n",
    "import statsmodels.api as sm\n",
    "import matplotlib.pyplot as plt"
   ]
  },
  {
   "attachments": {},
   "cell_type": "markdown",
   "metadata": {},
   "source": [
    "Load the CSV file into a Data Frame"
   ]
  },
  {
   "cell_type": "code",
   "execution_count": 688,
   "metadata": {},
   "outputs": [],
   "source": [
    "\n",
    "df = pd.read_csv(\"marathon.csv\")"
   ]
  },
  {
   "attachments": {},
   "cell_type": "markdown",
   "metadata": {},
   "source": [
    "Display the header of the Data Frame"
   ]
  },
  {
   "cell_type": "code",
   "execution_count": 689,
   "metadata": {},
   "outputs": [
    {
     "name": "stdout",
     "output_type": "stream",
     "text": [
      "Marathon Data\n",
      "   Run #  Distance  Temp (deg F)  Humidity (%)       Date  Week     Time  \\\n",
      "0      1      3.00            59            86   8/1/2023     1  0:28:52   \n",
      "1      2      5.00            65            74   8/4/2023     1  0:48:30   \n",
      "2      3      7.00            70            64   8/7/2023     1  1:13:28   \n",
      "3      4      3.00            73            67   8/9/2023     2  0:28:30   \n",
      "4      5      5.01            61            87  8/10/2023     2  0:46:57   \n",
      "5      6      3.00            67            74  8/13/2023     2  0:28:47   \n",
      "6      7      7.00            71            67  8/14/2023     2  1:12:03   \n",
      "7      8      3.02            74            61  8/16/2023     3  0:32:30   \n",
      "8      9      8.00            81            52  8/23/2023     4  1:21:39   \n",
      "9     10      6.00            63            80  8/26/2023     4  0:57:34   \n",
      "\n",
      "   Time (Num)     Pace  Pace (Num)  \n",
      "0       28.87  0:09:37        9.62  \n",
      "1       48.50  0:09:42        9.70  \n",
      "2       73.47  0:10:30       10.50  \n",
      "3       28.50  0:09:30        9.50  \n",
      "4       46.95  0:09:22        9.37  \n",
      "5       28.78  0:09:36        9.60  \n",
      "6       72.05  0:10:18       10.30  \n",
      "7       32.50  0:10:46       10.77  \n",
      "8       81.65  0:10:12       10.20  \n",
      "9       57.57  0:09:36        9.60  \n"
     ]
    }
   ],
   "source": [
    "print(\"Marathon Data\")\n",
    "print(df.head(10))"
   ]
  },
  {
   "attachments": {},
   "cell_type": "markdown",
   "metadata": {},
   "source": [
    "Define the input variables (independent variables)"
   ]
  },
  {
   "cell_type": "code",
   "execution_count": 690,
   "metadata": {},
   "outputs": [
    {
     "data": {
      "text/html": [
       "<div>\n",
       "<style scoped>\n",
       "    .dataframe tbody tr th:only-of-type {\n",
       "        vertical-align: middle;\n",
       "    }\n",
       "\n",
       "    .dataframe tbody tr th {\n",
       "        vertical-align: top;\n",
       "    }\n",
       "\n",
       "    .dataframe thead th {\n",
       "        text-align: right;\n",
       "    }\n",
       "</style>\n",
       "<table border=\"1\" class=\"dataframe\">\n",
       "  <thead>\n",
       "    <tr style=\"text-align: right;\">\n",
       "      <th></th>\n",
       "      <th>Distance</th>\n",
       "      <th>Temp (deg F)</th>\n",
       "      <th>Run #</th>\n",
       "      <th>Humidity (%)</th>\n",
       "    </tr>\n",
       "  </thead>\n",
       "  <tbody>\n",
       "    <tr>\n",
       "      <th>0</th>\n",
       "      <td>3.00</td>\n",
       "      <td>59</td>\n",
       "      <td>1</td>\n",
       "      <td>86</td>\n",
       "    </tr>\n",
       "    <tr>\n",
       "      <th>1</th>\n",
       "      <td>5.00</td>\n",
       "      <td>65</td>\n",
       "      <td>2</td>\n",
       "      <td>74</td>\n",
       "    </tr>\n",
       "    <tr>\n",
       "      <th>2</th>\n",
       "      <td>7.00</td>\n",
       "      <td>70</td>\n",
       "      <td>3</td>\n",
       "      <td>64</td>\n",
       "    </tr>\n",
       "    <tr>\n",
       "      <th>3</th>\n",
       "      <td>3.00</td>\n",
       "      <td>73</td>\n",
       "      <td>4</td>\n",
       "      <td>67</td>\n",
       "    </tr>\n",
       "    <tr>\n",
       "      <th>4</th>\n",
       "      <td>5.01</td>\n",
       "      <td>61</td>\n",
       "      <td>5</td>\n",
       "      <td>87</td>\n",
       "    </tr>\n",
       "    <tr>\n",
       "      <th>5</th>\n",
       "      <td>3.00</td>\n",
       "      <td>67</td>\n",
       "      <td>6</td>\n",
       "      <td>74</td>\n",
       "    </tr>\n",
       "    <tr>\n",
       "      <th>6</th>\n",
       "      <td>7.00</td>\n",
       "      <td>71</td>\n",
       "      <td>7</td>\n",
       "      <td>67</td>\n",
       "    </tr>\n",
       "    <tr>\n",
       "      <th>7</th>\n",
       "      <td>3.02</td>\n",
       "      <td>74</td>\n",
       "      <td>8</td>\n",
       "      <td>61</td>\n",
       "    </tr>\n",
       "    <tr>\n",
       "      <th>8</th>\n",
       "      <td>8.00</td>\n",
       "      <td>81</td>\n",
       "      <td>9</td>\n",
       "      <td>52</td>\n",
       "    </tr>\n",
       "    <tr>\n",
       "      <th>9</th>\n",
       "      <td>6.00</td>\n",
       "      <td>63</td>\n",
       "      <td>10</td>\n",
       "      <td>80</td>\n",
       "    </tr>\n",
       "  </tbody>\n",
       "</table>\n",
       "</div>"
      ],
      "text/plain": [
       "   Distance  Temp (deg F)  Run #  Humidity (%)\n",
       "0      3.00            59      1            86\n",
       "1      5.00            65      2            74\n",
       "2      7.00            70      3            64\n",
       "3      3.00            73      4            67\n",
       "4      5.01            61      5            87\n",
       "5      3.00            67      6            74\n",
       "6      7.00            71      7            67\n",
       "7      3.02            74      8            61\n",
       "8      8.00            81      9            52\n",
       "9      6.00            63     10            80"
      ]
     },
     "execution_count": 690,
     "metadata": {},
     "output_type": "execute_result"
    }
   ],
   "source": [
    "X = df[['Distance', 'Temp (deg F)', 'Run #', 'Humidity (%)']]\n",
    "X.head(10)"
   ]
  },
  {
   "cell_type": "markdown",
   "metadata": {},
   "source": [
    "## Evaluate data with statsmodels multivariate linear regression"
   ]
  },
  {
   "cell_type": "code",
   "execution_count": 691,
   "metadata": {},
   "outputs": [
    {
     "name": "stdout",
     "output_type": "stream",
     "text": [
      "                            OLS Regression Results                            \n",
      "==============================================================================\n",
      "Dep. Variable:             Pace (Num)   R-squared:                       0.480\n",
      "Model:                            OLS   Adj. R-squared:                  0.419\n",
      "Method:                 Least Squares   F-statistic:                     7.838\n",
      "Date:                Tue, 06 May 2025   Prob (F-statistic):           0.000137\n",
      "Time:                        11:27:40   Log-Likelihood:                -27.748\n",
      "No. Observations:                  39   AIC:                             65.50\n",
      "Df Residuals:                      34   BIC:                             73.81\n",
      "Df Model:                           4                                         \n",
      "Covariance Type:            nonrobust                                         \n",
      "================================================================================\n",
      "                   coef    std err          t      P>|t|      [0.025      0.975]\n",
      "--------------------------------------------------------------------------------\n",
      "const           13.5537      2.233      6.071      0.000       9.017      18.091\n",
      "Distance         0.1021      0.025      4.146      0.000       0.052       0.152\n",
      "Temp (deg F)    -0.0319      0.023     -1.381      0.176      -0.079       0.015\n",
      "Run #           -0.0221      0.009     -2.455      0.019      -0.040      -0.004\n",
      "Humidity (%)    -0.0308      0.010     -3.065      0.004      -0.051      -0.010\n",
      "==============================================================================\n",
      "Omnibus:                        0.124   Durbin-Watson:                   1.295\n",
      "Prob(Omnibus):                  0.940   Jarque-Bera (JB):                0.076\n",
      "Skew:                           0.085   Prob(JB):                        0.963\n",
      "Kurtosis:                       2.866   Cond. No.                     2.63e+03\n",
      "==============================================================================\n",
      "\n",
      "Notes:\n",
      "[1] Standard Errors assume that the covariance matrix of the errors is correctly specified.\n",
      "[2] The condition number is large, 2.63e+03. This might indicate that there are\n",
      "strong multicollinearity or other numerical problems.\n"
     ]
    }
   ],
   "source": [
    "X = sm.add_constant(X) # Adds a constant term to the predictor\n",
    "Y = df['Pace (Num)'] # dependent variable\n",
    "model = sm.OLS(Y,X).fit() # Fit the model\n",
    "print(model.summary())"
   ]
  },
  {
   "attachments": {},
   "cell_type": "markdown",
   "metadata": {},
   "source": [
    "### Check assumptions for linear regression\n",
    "\n",
    "Plot the residuals vs. predicted values to check for homoscedasticity and separately plot independent variables to visually check for linear relationship to dependent variable"
   ]
  },
  {
   "cell_type": "code",
   "execution_count": 692,
   "metadata": {},
   "outputs": [
    {
     "data": {
      "image/png": "[encoded data removed]",
      "text/plain": [
       "<Figure size 640x480 with 1 Axes>"
      ]
     },
     "metadata": {},
     "output_type": "display_data"
    }
   ],
   "source": [
    "plt.scatter(model.fittedvalues, model.resid)\n",
    "plt.xlabel('Fitted Values')\n",
    "plt.ylabel('Residuals')\n",
    "plt.title('Residuals vs. Fitted Values')\n",
    "plt.show()"
   ]
  },
  {
   "attachments": {},
   "cell_type": "markdown",
   "metadata": {},
   "source": [
    "Plot Pace vs # of Runs"
   ]
  },
  {
   "cell_type": "code",
   "execution_count": 693,
   "metadata": {},
   "outputs": [
    {
     "data": {
      "image/png": "[encoded data removed]",
      "text/plain": [
       "<Figure size 640x480 with 1 Axes>"
      ]
     },
     "metadata": {},
     "output_type": "display_data"
    }
   ],
   "source": [
    "Runs = df['Run #']\n",
    "plt.scatter(Runs,Y)\n",
    "plt.xlabel('Number of Runs')\n",
    "plt.ylim(0,12)\n",
    "plt.ylabel('Pace (min)')\n",
    "plt.title('Pace vs Number of Runs')\n",
    "plt.show()"
   ]
  },
  {
   "attachments": {},
   "cell_type": "markdown",
   "metadata": {},
   "source": [
    "Plot Pace vs Distance"
   ]
  },
  {
   "cell_type": "code",
   "execution_count": 694,
   "metadata": {},
   "outputs": [
    {
     "data": {
      "image/png": "[encoded data removed]",
      "text/plain": [
       "<Figure size 640x480 with 1 Axes>"
      ]
     },
     "metadata": {},
     "output_type": "display_data"
    }
   ],
   "source": [
    "Dist = df['Distance']\n",
    "plt.scatter(Dist,Y)\n",
    "plt.xlabel('Distance (mi)')\n",
    "plt.ylim(0,15)\n",
    "plt.ylabel('Pace (min)')\n",
    "plt.title('Pace vs Distance')\n",
    "plt.show()"
   ]
  },
  {
   "attachments": {},
   "cell_type": "markdown",
   "metadata": {},
   "source": [
    "Plot Pace vs Temp"
   ]
  },
  {
   "cell_type": "code",
   "execution_count": 695,
   "metadata": {},
   "outputs": [
    {
     "data": {
      "image/png": "[encoded data removed]",
      "text/plain": [
       "<Figure size 640x480 with 1 Axes>"
      ]
     },
     "metadata": {},
     "output_type": "display_data"
    }
   ],
   "source": [
    "Temp = df['Temp (deg F)']\n",
    "plt.scatter(Temp,Y)\n",
    "plt.xlabel('Temp (deg F)')\n",
    "plt.ylim(0,15)\n",
    "plt.ylabel('Pace (min)')\n",
    "plt.title('Pace vs Temp')\n",
    "plt.show()"
   ]
  },
  {
   "cell_type": "markdown",
   "metadata": {},
   "source": [
    "Plot Pace vs Humidity"
   ]
  },
  {
   "cell_type": "code",
   "execution_count": 696,
   "metadata": {},
   "outputs": [
    {
     "data": {
      "image/png": "[encoded data removed]",
      "text/plain": [
       "<Figure size 640x480 with 1 Axes>"
      ]
     },
     "metadata": {},
     "output_type": "display_data"
    }
   ],
   "source": [
    "Humid = df['Humidity (%)']\n",
    "plt.scatter(Humid,Y)\n",
    "plt.xlabel('Humidity (%)')\n",
    "plt.ylim(0,15)\n",
    "plt.ylabel('Pace (min)')\n",
    "plt.title('Pace vs Humidity')\n",
    "plt.show()"
   ]
  },
  {
   "cell_type": "markdown",
   "metadata": {},
   "source": [
    "## Evaluate data with scikitlearn LASSO regularized regression"
   ]
  },
  {
   "cell_type": "code",
   "execution_count": 697,
   "metadata": {},
   "outputs": [],
   "source": [
    "# import grid search\n",
    "\n",
    "# Split the Dataset into new Training and Testing Sets\n",
    "X2 = df[['Distance', 'Temp (deg F)', 'Run #', 'Humidity (%)',\"Week\"]]  # Possible independent variables\n",
    "Y2 = df['Pace (Num)']  # Target variable\n",
    "\n",
    "X2_train, X2_test, Y2_train, Y2_test = train_test_split(X2, Y2, test_size=0.5, random_state=42) "
   ]
  },
  {
   "cell_type": "code",
   "execution_count": 698,
   "metadata": {},
   "outputs": [],
   "source": [
    "# Create and Fit the LASSO Model & make Predictions\n",
    "lasso = Lasso(alpha=1.0)  # alpha is the regularization parameter\n",
    "lasso.fit(X2_train, Y2_train)\n",
    "Y2_pred = lasso.predict(X2_test)"
   ]
  },
  {
   "cell_type": "code",
   "execution_count": 699,
   "metadata": {},
   "outputs": [
    {
     "name": "stdout",
     "output_type": "stream",
     "text": [
      "Mean Squared Error: 0.42966589366615054\n",
      "R-squared: 0.025245593936962463\n"
     ]
    }
   ],
   "source": [
    "# Evaluate the Model\n",
    "mse = mean_squared_error(Y2_test, Y2_pred)\n",
    "r2 = r2_score(Y2_test, Y2_pred)\n",
    "print(f\"Mean Squared Error: {mse}\")\n",
    "print(f\"R-squared: {r2}\")"
   ]
  },
  {
   "cell_type": "code",
   "execution_count": 700,
   "metadata": {},
   "outputs": [
    {
     "name": "stdout",
     "output_type": "stream",
     "text": [
      "LASSO Coefficients:\n",
      "[ 0.         -0.         -0.00023124 -0.0126548  -0.        ]\n",
      "LASSO Intercept:\n",
      "10.398956976147458\n"
     ]
    }
   ],
   "source": [
    "# 5. Inspect Coefficients (Crucial for understanding feature selection)\n",
    "print(\"LASSO Coefficients:\")\n",
    "print(lasso.coef_)  # See which coefficients are exactly zero\n",
    "print(\"LASSO Intercept:\")\n",
    "print(lasso.intercept_)"
   ]
  },
  {
   "cell_type": "code",
   "execution_count": 701,
   "metadata": {},
   "outputs": [
    {
     "name": "stdout",
     "output_type": "stream",
     "text": [
      "Selected features indices: [2 3]\n"
     ]
    }
   ],
   "source": [
    "\n",
    "# Get the indices of the features that are selected\n",
    "selected_features = np.where(lasso.coef_ != 0)[0]\n",
    "print(f\"Selected features indices: {selected_features}\")"
   ]
  },
  {
   "cell_type": "code",
   "execution_count": 703,
   "metadata": {},
   "outputs": [
    {
     "name": "stdout",
     "output_type": "stream",
     "text": [
      "Best alpha: 10\n",
      "Best LASSO Coefficients:\n",
      "[ 0.  0. -0. -0. -0.]\n",
      "Best LASSO Intercept:\n",
      "9.514210526315788\n"
     ]
    }
   ],
   "source": [
    "# Define the parameter grid to search\n",
    "param_grid = {'alpha': [0.001, 0.01, 0.1, 1, 10, 100]}\n",
    "\n",
    "# Create a GridSearchCV object (CV is the number of cross-validation folds)\n",
    "grid_search = GridSearchCV(Lasso(), param_grid, scoring='r2', cv=5)\n",
    "\n",
    "# Fit the GridSearchCV object to the training data\n",
    "grid_search.fit(X2_train, Y2_train)\n",
    "\n",
    "# Print the best alpha value found\n",
    "print(f\"Best alpha: {grid_search.best_params_['alpha']}\")\n",
    "\n",
    "# Get the best model\n",
    "best_lasso = grid_search.best_estimator_\n",
    "print(\"Best LASSO Coefficients:\")\n",
    "print(best_lasso.coef_)\n",
    "print(\"Best LASSO Intercept:\")\n",
    "print(best_lasso.intercept_)\n",
    "\n",
    "# Make predictions using the best model\n",
    "Y2_pred_best = best_lasso.predict(X2_test)"
   ]
  },
  {
   "cell_type": "markdown",
   "metadata": {},
   "source": []
  },
  {
   "cell_type": "markdown",
   "metadata": {},
   "source": []
  }
 ],
 "metadata": {
  "kernelspec": {
   "display_name": "Data_Science",
   "language": "python",
   "name": "python3"
  },
  "language_info": {
   "codemirror_mode": {
    "name": "ipython",
    "version": 3
   },
   "file_extension": ".py",
   "mimetype": "text/x-python",
   "name": "python",
   "nbconvert_exporter": "python",
   "pygments_lexer": "ipython3",
   "version": "3.12.9"
  },
  "orig_nbformat": 4
 },
 "nbformat": 4,
 "nbformat_minor": 2
}
