{
 "cells": [
  {
   "cell_type": "code",
   "execution_count": 49,
   "metadata": {
    "vscode": {
     "languageId": "r"
    }
   },
   "outputs": [],
   "source": [
    "library(dplyr)\n",
    "library(tidyr)\n",
    "library(glmnet)\n",
    "library(ggplot2)"
   ]
  },
  {
   "cell_type": "code",
   "execution_count": 50,
   "metadata": {
    "vscode": {
     "languageId": "r"
    }
   },
   "outputs": [
    {
     "data": {
      "text/html": [
       "<table>\n",
       "<thead><tr><th scope=col>ID</th><th scope=col>WTP</th><th scope=col>gender</th><th scope=col>age</th><th scope=col>urban</th><th scope=col>income_1</th><th scope=col>liberal_1</th></tr></thead>\n",
       "<tbody>\n",
       "\t<tr><td>1        </td><td> 72249.92</td><td>2        </td><td>44       </td><td>2        </td><td>4        </td><td>4        </td></tr>\n",
       "\t<tr><td>2        </td><td>173915.49</td><td>2        </td><td>32       </td><td>1        </td><td>7        </td><td>7        </td></tr>\n",
       "\t<tr><td>3        </td><td>154647.89</td><td>2        </td><td>35       </td><td>1        </td><td>6        </td><td>6        </td></tr>\n",
       "\t<tr><td>4        </td><td>168845.07</td><td>1        </td><td>35       </td><td>2        </td><td>6        </td><td>6        </td></tr>\n",
       "\t<tr><td>5        </td><td>145014.08</td><td>2        </td><td>23       </td><td>2        </td><td>7        </td><td>5        </td></tr>\n",
       "\t<tr><td>6        </td><td>128281.69</td><td>2        </td><td>45       </td><td>2        </td><td>4        </td><td>5        </td></tr>\n",
       "</tbody>\n",
       "</table>\n"
      ],
      "text/latex": [
       "\\begin{tabular}{r|lllllll}\n",
       " ID & WTP & gender & age & urban & income\\_1 & liberal\\_1\\\\\n",
       "\\hline\n",
       "\t 1         &  72249.92 & 2         & 44        & 2         & 4         & 4        \\\\\n",
       "\t 2         & 173915.49 & 2         & 32        & 1         & 7         & 7        \\\\\n",
       "\t 3         & 154647.89 & 2         & 35        & 1         & 6         & 6        \\\\\n",
       "\t 4         & 168845.07 & 1         & 35        & 2         & 6         & 6        \\\\\n",
       "\t 5         & 145014.08 & 2         & 23        & 2         & 7         & 5        \\\\\n",
       "\t 6         & 128281.69 & 2         & 45        & 2         & 4         & 5        \\\\\n",
       "\\end{tabular}\n"
      ],
      "text/markdown": [
       "\n",
       "| ID | WTP | gender | age | urban | income_1 | liberal_1 |\n",
       "|---|---|---|---|---|---|---|\n",
       "| 1         |  72249.92 | 2         | 44        | 2         | 4         | 4         |\n",
       "| 2         | 173915.49 | 2         | 32        | 1         | 7         | 7         |\n",
       "| 3         | 154647.89 | 2         | 35        | 1         | 6         | 6         |\n",
       "| 4         | 168845.07 | 1         | 35        | 2         | 6         | 6         |\n",
       "| 5         | 145014.08 | 2         | 23        | 2         | 7         | 5         |\n",
       "| 6         | 128281.69 | 2         | 45        | 2         | 4         | 5         |\n",
       "\n"
      ],
      "text/plain": [
       "  ID WTP       gender age urban income_1 liberal_1\n",
       "1 1   72249.92 2      44  2     4        4        \n",
       "2 2  173915.49 2      32  1     7        7        \n",
       "3 3  154647.89 2      35  1     6        6        \n",
       "4 4  168845.07 1      35  2     6        6        \n",
       "5 5  145014.08 2      23  2     7        5        \n",
       "6 6  128281.69 2      45  2     4        5        "
      ]
     },
     "metadata": {},
     "output_type": "display_data"
    },
    {
     "data": {
      "text/plain": [
       "       ID              WTP             gender           age       \n",
       " Min.   :  1.00   Min.   :     0   Min.   :1.000   Min.   :19.00  \n",
       " 1st Qu.: 69.25   1st Qu.:105592   1st Qu.:1.000   1st Qu.:32.00  \n",
       " Median :135.50   Median :150592   Median :2.000   Median :32.00  \n",
       " Mean   :135.26   Mean   :129343   Mean   :1.699   Mean   :35.01  \n",
       " 3rd Qu.:201.75   3rd Qu.:165042   3rd Qu.:2.000   3rd Qu.:38.00  \n",
       " Max.   :273.00   Max.   :180000   Max.   :2.000   Max.   :77.00  \n",
       "     urban          income_1       liberal_1    \n",
       " Min.   :1.000   Min.   :1.000   Min.   :1.000  \n",
       " 1st Qu.:1.000   1st Qu.:4.000   1st Qu.:5.000  \n",
       " Median :1.000   Median :6.000   Median :6.000  \n",
       " Mean   :1.534   Mean   :5.267   Mean   :5.549  \n",
       " 3rd Qu.:2.000   3rd Qu.:6.000   3rd Qu.:6.000  \n",
       " Max.   :3.000   Max.   :7.000   Max.   :7.000  "
      ]
     },
     "metadata": {},
     "output_type": "display_data"
    }
   ],
   "source": [
    "# Load data\n",
    "\n",
    "Rivian <- read.csv(\"Rivian.csv\", header = TRUE)\n",
    "Rivian <- na.omit(Rivian)\n",
    "head(Rivian)\n",
    "summary(Rivian)\n"
   ]
  },
  {
   "cell_type": "code",
   "execution_count": 51,
   "metadata": {
    "vscode": {
     "languageId": "r"
    }
   },
   "outputs": [
    {
     "data": {
      "text/plain": [
       "\n",
       "Call:\n",
       "lm(formula = WTP ~ gender + age + urban + income_1 + liberal_1, \n",
       "    data = Rivian)\n",
       "\n",
       "Residuals:\n",
       "    Min      1Q  Median      3Q     Max \n",
       "-124902   -7823    8690   21217  128571 \n",
       "\n",
       "Coefficients:\n",
       "            Estimate Std. Error t value Pr(>|t|)    \n",
       "(Intercept)  18551.9    19605.3   0.946   0.3449    \n",
       "gender        4280.3     5091.8   0.841   0.4013    \n",
       "age           -416.4      283.9  -1.467   0.1437    \n",
       "urban        -6263.3     3167.6  -1.977   0.0491 *  \n",
       "income_1     15746.6     1678.8   9.379  < 2e-16 ***\n",
       "liberal_1     8067.5     1695.3   4.759 3.23e-06 ***\n",
       "---\n",
       "Signif. codes:  0 '***' 0.001 '**' 0.01 '*' 0.05 '.' 0.1 ' ' 1\n",
       "\n",
       "Residual standard error: 37440 on 260 degrees of freedom\n",
       "Multiple R-squared:  0.4717,\tAdjusted R-squared:  0.4615 \n",
       "F-statistic: 46.43 on 5 and 260 DF,  p-value: < 2.2e-16\n"
      ]
     },
     "metadata": {},
     "output_type": "display_data"
    }
   ],
   "source": [
    "# Run a regression with \"vote02\" as the outcome variable, and \"contact\" as the regressor. \n",
    "Rivian_Model <- lm(WTP ~ gender + age + urban + income_1 + liberal_1, data = Rivian)\n",
    "# first variable is outcome, all after tilda are input variables\n",
    "summary(Rivian_Model)"
   ]
  },
  {
   "cell_type": "code",
   "execution_count": 52,
   "metadata": {
    "vscode": {
     "languageId": "r"
    }
   },
   "outputs": [
    {
     "name": "stderr",
     "output_type": "stream",
     "text": [
      "`stat_bin()` using `bins = 30`. Pick better value with `binwidth`.\n"
     ]
    },
    {
     "data": {
      "image/png": "[encoded data removed]",
      "text/plain": [
       "plot without title"
      ]
     },
     "metadata": {},
     "output_type": "display_data"
    }
   ],
   "source": [
    "#histogram of Willingness to Pay\n",
    "ggplot(Rivian, aes(x = WTP)) + geom_histogram(color=\"blue\",fill=\"gold\") + ggtitle(\"Histogram\")"
   ]
  },
  {
   "cell_type": "code",
   "execution_count": 70,
   "metadata": {
    "vscode": {
     "languageId": "r"
    }
   },
   "outputs": [
    {
     "data": {
      "text/html": [
       "<ol class=list-inline>\n",
       "\t<li>72249.92</li>\n",
       "\t<li>173915.49</li>\n",
       "\t<li>154647.89</li>\n",
       "\t<li>168845.07</li>\n",
       "\t<li>145014.08</li>\n",
       "\t<li>128281.69</li>\n",
       "</ol>\n"
      ],
      "text/latex": [
       "\\begin{enumerate*}\n",
       "\\item 72249.92\n",
       "\\item 173915.49\n",
       "\\item 154647.89\n",
       "\\item 168845.07\n",
       "\\item 145014.08\n",
       "\\item 128281.69\n",
       "\\end{enumerate*}\n"
      ],
      "text/markdown": [
       "1. 72249.92\n",
       "2. 173915.49\n",
       "3. 154647.89\n",
       "4. 168845.07\n",
       "5. 145014.08\n",
       "6. 128281.69\n",
       "\n",
       "\n"
      ],
      "text/plain": [
       "[1]  72249.92 173915.49 154647.89 168845.07 145014.08 128281.69"
      ]
     },
     "metadata": {},
     "output_type": "display_data"
    },
    {
     "data": {
      "text/html": [
       "<table>\n",
       "<thead><tr><th scope=col>gender</th><th scope=col>age</th><th scope=col>urban</th><th scope=col>income_1</th><th scope=col>liberal_1</th></tr></thead>\n",
       "<tbody>\n",
       "\t<tr><td>2 </td><td>44</td><td>2 </td><td>4 </td><td>4 </td></tr>\n",
       "\t<tr><td>2 </td><td>32</td><td>1 </td><td>7 </td><td>7 </td></tr>\n",
       "\t<tr><td>2 </td><td>35</td><td>1 </td><td>6 </td><td>6 </td></tr>\n",
       "\t<tr><td>1 </td><td>35</td><td>2 </td><td>6 </td><td>6 </td></tr>\n",
       "\t<tr><td>2 </td><td>23</td><td>2 </td><td>7 </td><td>5 </td></tr>\n",
       "\t<tr><td>2 </td><td>45</td><td>2 </td><td>4 </td><td>5 </td></tr>\n",
       "</tbody>\n",
       "</table>\n"
      ],
      "text/latex": [
       "\\begin{tabular}{r|lllll}\n",
       " gender & age & urban & income\\_1 & liberal\\_1\\\\\n",
       "\\hline\n",
       "\t 2  & 44 & 2  & 4  & 4 \\\\\n",
       "\t 2  & 32 & 1  & 7  & 7 \\\\\n",
       "\t 2  & 35 & 1  & 6  & 6 \\\\\n",
       "\t 1  & 35 & 2  & 6  & 6 \\\\\n",
       "\t 2  & 23 & 2  & 7  & 5 \\\\\n",
       "\t 2  & 45 & 2  & 4  & 5 \\\\\n",
       "\\end{tabular}\n"
      ],
      "text/markdown": [
       "\n",
       "| gender | age | urban | income_1 | liberal_1 |\n",
       "|---|---|---|---|---|\n",
       "| 2  | 44 | 2  | 4  | 4  |\n",
       "| 2  | 32 | 1  | 7  | 7  |\n",
       "| 2  | 35 | 1  | 6  | 6  |\n",
       "| 1  | 35 | 2  | 6  | 6  |\n",
       "| 2  | 23 | 2  | 7  | 5  |\n",
       "| 2  | 45 | 2  | 4  | 5  |\n",
       "\n"
      ],
      "text/plain": [
       "  gender age urban income_1 liberal_1\n",
       "1 2      44  2     4        4        \n",
       "2 2      32  1     7        7        \n",
       "3 2      35  1     6        6        \n",
       "4 1      35  2     6        6        \n",
       "5 2      23  2     7        5        \n",
       "6 2      45  2     4        5        "
      ]
     },
     "metadata": {},
     "output_type": "display_data"
    }
   ],
   "source": [
    "set.seed(1)\n",
    "# Create train and test sets (50% for training, 50% for testing)\n",
    "train_rows <- sample(1:nrow(Rivian), nrow(Rivian)/2)\n",
    "train <- Rivian[train_rows,]\n",
    "test <- Rivian[-train_rows,]\n",
    "y <- Rivian$WTP\n",
    "# Create the outcome variable and the input variables\n",
    "# y is the outcome variable, x is the input variables\n",
    "x <- Rivian %>% select(gender, age, urban, income_1, liberal_1)\n",
    "y_train <- y[train_rows]\n",
    "x_train <- x[train_rows, ]\n",
    "y_test <- y[-train_rows]\n",
    "x_test <- x[-train_rows, ]\n",
    "head(y)\n",
    "head(x)"
   ]
  },
  {
   "cell_type": "code",
   "execution_count": 62,
   "metadata": {
    "vscode": {
     "languageId": "r"
    }
   },
   "outputs": [
    {
     "data": {
      "image/png": "[encoded data removed]",
      "text/plain": [
       "plot without title"
      ]
     },
     "metadata": {},
     "output_type": "display_data"
    }
   ],
   "source": [
    "#Fit to full dataset with chosen lambda, examine coefficients\n",
    "lasso_train <- glmnet(as.matrix(x_train), y_train, alpha=1) #alpha = 1 means lasso.\n",
    "\n",
    "#Examine coefficients as lambda increases\n",
    "plot(lasso_train, xvar = \"lambda\", label = TRUE) \n",
    "#graph shows the coefficient for any given lambda. The larger lambda is, the smaller each coefficient gets."
   ]
  },
  {
   "cell_type": "code",
   "execution_count": 71,
   "metadata": {
    "vscode": {
     "languageId": "r"
    }
   },
   "outputs": [
    {
     "name": "stdout",
     "output_type": "stream",
     "text": [
      "[1] \"First graph is Log Lambda. Second is Lambda\"\n"
     ]
    },
    {
     "data": {
      "image/png": "[encoded data removed]",
      "text/plain": [
       "plot without title"
      ]
     },
     "metadata": {},
     "output_type": "display_data"
    },
    {
     "data": {
      "image/png": "[encoded data removed]",
      "text/plain": [
       "plot without title"
      ]
     },
     "metadata": {},
     "output_type": "display_data"
    }
   ],
   "source": [
    "#Set seed for replication\n",
    "set.seed(1)\n",
    "\n",
    "#Function to calculate cross-validation errors for all lambda\n",
    "cv_lasso <- cv.glmnet(as.matrix(x_train), y_train, alpha=1)\n",
    "\n",
    "# Calculate the r-squared of the model for each lambda \n",
    "r2 <- 1 - cv_lasso$cvm/var(y_train) \n",
    "# Plots log(lambda) and R2\n",
    "print(\"First graph is Log Lambda. Second is Lambda\")\n",
    "plot(log(cv_lasso$lambda), r2, xlab=\"Log(Lambda)\", ylab=\"R-Squared\", col=\"Blue\")\n",
    "plot(cv_lasso$lambda, r2, xlab=\"Lambda\", ylab=\"R-Squared\", col=\"Blue\")"
   ]
  },
  {
   "cell_type": "code",
   "execution_count": 68,
   "metadata": {
    "vscode": {
     "languageId": "r"
    }
   },
   "outputs": [
    {
     "name": "stdout",
     "output_type": "stream",
     "text": [
      "[1] \"max R^2\"\n"
     ]
    },
    {
     "data": {
      "text/html": [
       "0.419619349669095"
      ],
      "text/latex": [
       "0.419619349669095"
      ],
      "text/markdown": [
       "0.419619349669095"
      ],
      "text/plain": [
       "[1] 0.4196193"
      ]
     },
     "metadata": {},
     "output_type": "display_data"
    },
    {
     "name": "stdout",
     "output_type": "stream",
     "text": [
      "[1] \"best Lambda\"\n"
     ]
    },
    {
     "data": {
      "text/html": [
       "3044.20928565761"
      ],
      "text/latex": [
       "3044.20928565761"
      ],
      "text/markdown": [
       "3044.20928565761"
      ],
      "text/plain": [
       "[1] 3044.209"
      ]
     },
     "metadata": {},
     "output_type": "display_data"
    },
    {
     "name": "stdout",
     "output_type": "stream",
     "text": [
      "[1] \"log of best lambda\"\n"
     ]
    },
    {
     "data": {
      "text/html": [
       "8.02099647011935"
      ],
      "text/latex": [
       "8.02099647011935"
      ],
      "text/markdown": [
       "8.02099647011935"
      ],
      "text/plain": [
       "[1] 8.020996"
      ]
     },
     "metadata": {},
     "output_type": "display_data"
    },
    {
     "data": {
      "text/plain": [
       "6 x 1 sparse Matrix of class \"dgCMatrix\"\n",
       "                    s0\n",
       "(Intercept) 19037.9242\n",
       "gender        401.1573\n",
       "age          -181.5371\n",
       "urban       -6134.0696\n",
       "income_1    16743.3384\n",
       "liberal_1    6408.8928"
      ]
     },
     "metadata": {},
     "output_type": "display_data"
    }
   ],
   "source": [
    "print(\"max R^2\")\n",
    "max(r2)\n",
    "print(\"best Lambda\")\n",
    "best_lambda <- cv_lasso$lambda[which(r2==max(r2))] #stores the optimal lamda\n",
    "best_lambda\n",
    "print(\"log of best lambda\")\n",
    "log(best_lambda)\n",
    "\n",
    "# Fit the Lasso model to the training data using the optimal lambda\n",
    "lasso_model <- glmnet(as.matrix(x_train), y_train, alpha=1, lambda=best_lambda)\n",
    "\n",
    "# Examine the coefficients\n",
    "coef(lasso_model)\n",
    "#x_train is matrix of covariates used to estimate the model, y_train is vector of outcome variable used in the estimation"
   ]
  },
  {
   "cell_type": "code",
   "execution_count": 79,
   "metadata": {
    "vscode": {
     "languageId": "r"
    }
   },
   "outputs": [
    {
     "name": "stdout",
     "output_type": "stream",
     "text": [
      "[1] \"Lasso In-sample R-squared\"\n"
     ]
    },
    {
     "data": {
      "text/html": [
       "0.501523187689374"
      ],
      "text/latex": [
       "0.501523187689374"
      ],
      "text/markdown": [
       "0.501523187689374"
      ],
      "text/plain": [
       "[1] 0.5015232"
      ]
     },
     "metadata": {},
     "output_type": "display_data"
    }
   ],
   "source": [
    "# Run lasso with selected lambda on train and test set, get r-square for both\n",
    "lasso_predict_in <- predict(lasso_train, s=best_lambda, newx = as.matrix(x_train))\n",
    "lasso_predict_out <- predict(lasso_train, s=best_lambda, newx = as.matrix(x_test))\n",
    "\n",
    "# Calculate r-square for lasso\n",
    "print('Lasso In-sample R-squared')\n",
    "1-mean((lasso_predict_in-y_train)^2)/var(y_train) "
   ]
  },
  {
   "cell_type": "code",
   "execution_count": 80,
   "metadata": {
    "vscode": {
     "languageId": "r"
    }
   },
   "outputs": [
    {
     "name": "stdout",
     "output_type": "stream",
     "text": [
      "[1] \"Lasso Out-of-sample R-squared\"\n"
     ]
    },
    {
     "data": {
      "text/html": [
       "0.411716139363399"
      ],
      "text/latex": [
       "0.411716139363399"
      ],
      "text/markdown": [
       "0.411716139363399"
      ],
      "text/plain": [
       "[1] 0.4117161"
      ]
     },
     "metadata": {},
     "output_type": "display_data"
    }
   ],
   "source": [
    "print('Lasso Out-of-sample R-squared')\n",
    "1-mean((lasso_predict_out-y_test)^2)/var(y_test)"
   ]
  },
  {
   "cell_type": "code",
   "execution_count": null,
   "metadata": {
    "vscode": {
     "languageId": "r"
    }
   },
   "outputs": [],
   "source": []
  }
 ],
 "metadata": {
  "kernelspec": {
   "display_name": "R",
   "language": "R",
   "name": "ir"
  },
  "language_info": {
   "codemirror_mode": "r",
   "file_extension": ".r",
   "mimetype": "text/x-r-source",
   "name": "R",
   "pygments_lexer": "r",
   "version": "3.6.1"
  },
  "orig_nbformat": 4
 },
 "nbformat": 4,
 "nbformat_minor": 2
}
